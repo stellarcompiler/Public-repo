{
  "nbformat": 4,
  "nbformat_minor": 0,
  "metadata": {
    "colab": {
      "provenance": [],
      "authorship_tag": "ABX9TyOFvRTds3fhsJOgpVpRbT/M",
      "include_colab_link": true
    },
    "kernelspec": {
      "name": "python3",
      "display_name": "Python 3"
    },
    "language_info": {
      "name": "python"
    }
  },
  "cells": [
    {
      "cell_type": "markdown",
      "metadata": {
        "id": "view-in-github",
        "colab_type": "text"
      },
      "source": [
        "<a href=\"https://colab.research.google.com/github/stellarcompiler/Public-repo/blob/master/Dictionary.ipynb\" target=\"_parent\"><img src=\"https://colab.research.google.com/assets/colab-badge.svg\" alt=\"Open In Colab\"/></a>"
      ]
    },
    {
      "cell_type": "markdown",
      "source": [
        "# **Example For Sets:**"
      ],
      "metadata": {
        "id": "ntEwDskoJOAe"
      }
    },
    {
      "cell_type": "code",
      "source": [
        "set1={\"apple\",\"kiwi\",\"Cherry\",\"Durian\"}\n",
        "\n",
        "print(set1)\n",
        "\n",
        "for i in set1:\n",
        "  print(i)"
      ],
      "metadata": {
        "colab": {
          "base_uri": "https://localhost:8080/"
        },
        "id": "ENjpHhN_KL7k",
        "outputId": "af975576-f79a-40eb-c4ed-709678963b59"
      },
      "execution_count": null,
      "outputs": [
        {
          "output_type": "stream",
          "name": "stdout",
          "text": [
            "{'Cherry', 'kiwi', 'Durian', 'apple'}\n",
            "Cherry\n",
            "kiwi\n",
            "Durian\n",
            "apple\n"
          ]
        }
      ]
    },
    {
      "cell_type": "markdown",
      "source": [
        "## 👆 This shows us that Sets does not support **indexing**"
      ],
      "metadata": {
        "id": "d-jMt2csLKnl"
      }
    },
    {
      "cell_type": "code",
      "source": [
        "set2={5,3,8,2,1,5,10,8,9,10}\n",
        "\n",
        "print(set2)\n",
        "\n",
        "for i in set2:\n",
        "  print(i)"
      ],
      "metadata": {
        "colab": {
          "base_uri": "https://localhost:8080/"
        },
        "id": "if0GpjV5M9wY",
        "outputId": "db9efe16-fd14-4d8b-9640-cfb77cac192d"
      },
      "execution_count": null,
      "outputs": [
        {
          "output_type": "stream",
          "name": "stdout",
          "text": [
            "{1, 2, 3, 5, 8, 9, 10}\n",
            "1\n",
            "2\n",
            "3\n",
            "5\n",
            "8\n",
            "9\n",
            "10\n"
          ]
        }
      ]
    },
    {
      "cell_type": "markdown",
      "source": [
        "### This shows us the set are unordered**(UNIQUE)** or reduces **redundancy**"
      ],
      "metadata": {
        "id": "sIbarh8YNSIR"
      }
    },
    {
      "cell_type": "markdown",
      "source": [
        "# **EXAMPLES FOR DICTIONARIES📖 IN PYTHON :**\n"
      ],
      "metadata": {
        "id": "EsgND-ZaD_wR"
      }
    },
    {
      "cell_type": "markdown",
      "source": [
        "## **Storing Info of a Book:**"
      ],
      "metadata": {
        "id": "J97A0JuRGrGv"
      }
    },
    {
      "cell_type": "code",
      "source": [
        "book={\"Title\":\"ATOMIC HABITS\",\"Author\":\"James Clear\",\"Year\":\"2018\"}\n",
        "print(book[\"Title\"])\n",
        "print(book[\"Author\"])\n",
        "print(book[\"Year\"])"
      ],
      "metadata": {
        "id": "jA8EjYFCFK8b"
      },
      "execution_count": null,
      "outputs": []
    },
    {
      "cell_type": "markdown",
      "source": [
        "## **Example for storing Student Info:**"
      ],
      "metadata": {
        "id": "Eyc2e-32G7Zb"
      }
    },
    {
      "cell_type": "code",
      "source": [
        "student_01={\"First name\":\"Arthur\",\"Last name\":\"Morgan\",\"Roll No\":\"01\",\"Class\":\"C1SB\"}\n",
        "\n",
        "print(\"Name :\",student_01[\"First name\"]+\" \"+student_01[\"Last name\"])\n",
        "\n",
        "print(\"Roll Number :\",student_01[\"Roll No\"])\n",
        "\n",
        "print(\"Class :\",student_01[\"Class\"])\n",
        "print(\"\\n\")\n",
        "\n",
        "for key in student_01:\n",
        "  print(key,\":\",student_01[key])"
      ],
      "metadata": {
        "colab": {
          "base_uri": "https://localhost:8080/"
        },
        "id": "YAqU-6mqHK_A",
        "outputId": "87e85b7c-19f5-4e7e-c275-80d706a4e45d"
      },
      "execution_count": null,
      "outputs": [
        {
          "output_type": "stream",
          "name": "stdout",
          "text": [
            "Name : Arthur Morgan\n",
            "Roll Number : 01\n",
            "Class : C1SB\n",
            "\n",
            "\n",
            "First name : Arthur\n",
            "Last name : Morgan\n",
            "Roll No : 01\n",
            "Class : C1SB\n"
          ]
        }
      ]
    },
    {
      "cell_type": "markdown",
      "source": [
        "# **Adding Values:**\n",
        "\n",
        "### **dictionary_name[Key]=value** 👈 This adds this key-value pair to the end of dictionary"
      ],
      "metadata": {
        "id": "c9FW80DdYvMj"
      }
    },
    {
      "cell_type": "code",
      "source": [
        "user={'name': 'Alice', 'age': 25}\n",
        "\n",
        "user['city']='Ernakulam'\n",
        "\n",
        "print(user)"
      ],
      "metadata": {
        "colab": {
          "base_uri": "https://localhost:8080/"
        },
        "id": "ncRof4DbbHUE",
        "outputId": "08d15192-f970-4071-82fc-0430e3692666"
      },
      "execution_count": null,
      "outputs": [
        {
          "output_type": "stream",
          "name": "stdout",
          "text": [
            "{'name': 'Alice', 'age': 25, 'city': 'Ernakulam'}\n"
          ]
        }
      ]
    },
    {
      "cell_type": "markdown",
      "source": [
        "# **.update(other_dictionary) :**\n",
        "## For **Updating** the values inside Dictionary:\n",
        "\n",
        "### use : **dictionary_name.update({other dictionary})**"
      ],
      "metadata": {
        "id": "EYR5icQQeFzq"
      }
    },
    {
      "cell_type": "code",
      "source": [
        "user = {'name': 'Alice', 'age': 25}\n",
        "\n",
        "user.update({'age':30,'city': 'New York'})\n",
        "\n",
        "print(user)"
      ],
      "metadata": {
        "colab": {
          "base_uri": "https://localhost:8080/"
        },
        "id": "HavvB_f3fugB",
        "outputId": "4a56a2bd-4fa0-483f-af17-07b2ab618152"
      },
      "execution_count": null,
      "outputs": [
        {
          "output_type": "stream",
          "name": "stdout",
          "text": [
            "{'name': 'Alice', 'age': 30, 'city': 'New York'}\n"
          ]
        }
      ]
    },
    {
      "cell_type": "markdown",
      "source": [
        "# **.get() :**\n",
        "## For Pulling the values from a Dictionary:\n",
        "### use: **dict_name.get(Key, default_value)**"
      ],
      "metadata": {
        "id": "rJO-b22-gedP"
      }
    },
    {
      "cell_type": "code",
      "source": [
        "user= {'name': 'Alice', 'age': 25}\n",
        "\n",
        "print(user.get('name'))\n",
        "\n",
        "print(user.get('city','Not Found'))"
      ],
      "metadata": {
        "colab": {
          "base_uri": "https://localhost:8080/"
        },
        "id": "wO_dEQbehBlR",
        "outputId": "1aed26e1-6350-417e-ce67-f5cbc8003ee4"
      },
      "execution_count": null,
      "outputs": [
        {
          "output_type": "stream",
          "name": "stdout",
          "text": [
            "Alice\n",
            "Not Found\n"
          ]
        }
      ]
    },
    {
      "cell_type": "markdown",
      "source": [
        "# **.pop() :**\n",
        "### **For Deleting a key-value pair and returning the value**\n",
        "## **use: user.pop(key,default)**"
      ],
      "metadata": {
        "id": "By_9lZ0ohYNf"
      }
    },
    {
      "cell_type": "code",
      "source": [
        "user= {'name': 'Alice', 'age': 25,'city':'Ernakulam'}\n",
        "\n",
        "print(user.pop('city'))\n",
        "\n",
        "print(user)\n"
      ],
      "metadata": {
        "colab": {
          "base_uri": "https://localhost:8080/"
        },
        "id": "NuLKIJjWi8PR",
        "outputId": "dc3a2029-df9e-4bed-de49-23941d312766"
      },
      "execution_count": 16,
      "outputs": [
        {
          "output_type": "stream",
          "name": "stdout",
          "text": [
            "Ernakulam\n",
            "{'name': 'Alice', 'age': 25}\n"
          ]
        }
      ]
    },
    {
      "cell_type": "markdown",
      "source": [
        "# **.popitem() :**\n",
        "## **Used to delete the element from the end and return the Key-value pair**\n",
        "## **Use: dict_name.popitem()**"
      ],
      "metadata": {
        "id": "LlFUGxOqjIlJ"
      }
    },
    {
      "cell_type": "code",
      "source": [
        "user= {'name': 'Alice', 'age': 25,'city':'Ernakulam'}\n",
        "\n",
        "print(user.popitem())\n",
        "print(user)"
      ],
      "metadata": {
        "colab": {
          "base_uri": "https://localhost:8080/"
        },
        "id": "FEjnm7kKkxaO",
        "outputId": "88f3aea9-b26b-4283-80cb-81f1893b02d1"
      },
      "execution_count": 18,
      "outputs": [
        {
          "output_type": "stream",
          "name": "stdout",
          "text": [
            "('city', 'Ernakulam')\n",
            "{'name': 'Alice', 'age': 25}\n"
          ]
        }
      ]
    },
    {
      "cell_type": "markdown",
      "source": [
        "# **.del()**\n",
        "### To simply delete a Key-value pair\n",
        "\n",
        "### Syntax: del dict_name(key)"
      ],
      "metadata": {
        "id": "lOpdYgXanntg"
      }
    },
    {
      "cell_type": "code",
      "source": [
        "user= {'name': 'Alice', 'age': 25,'city':'Ernakulam'}\n",
        "del user['city']\n",
        "print(user)"
      ],
      "metadata": {
        "colab": {
          "base_uri": "https://localhost:8080/"
        },
        "id": "B8twkroxoQEE",
        "outputId": "70231a00-2805-4ba1-f180-64b606f0dcda"
      },
      "execution_count": 20,
      "outputs": [
        {
          "output_type": "stream",
          "name": "stdout",
          "text": [
            "{'name': 'Alice', 'age': 25}\n"
          ]
        }
      ]
    },
    {
      "cell_type": "markdown",
      "source": [
        "# **.copy() :**\n",
        "### Returns a copy of a dictionary to another dict. variable\n",
        "\n",
        "### **syntax: variable=dict_name.copy()**"
      ],
      "metadata": {
        "id": "MriuNAIWlIL8"
      }
    },
    {
      "cell_type": "code",
      "source": [
        "user= {'name': 'Alice', 'age': 25,'city':'Ernakulam'}\n",
        "\n",
        "user_copy=user.copy()\n",
        "print(user_copy)"
      ],
      "metadata": {
        "colab": {
          "base_uri": "https://localhost:8080/"
        },
        "id": "bgb7qT9Hnb06",
        "outputId": "77e629b2-8944-47ec-f58f-126d367791fa"
      },
      "execution_count": 19,
      "outputs": [
        {
          "output_type": "stream",
          "name": "stdout",
          "text": [
            "{'name': 'Alice', 'age': 25, 'city': 'Ernakulam'}\n"
          ]
        }
      ]
    },
    {
      "cell_type": "markdown",
      "source": [
        "## **.items():**\n",
        "## It returns a view of the dictionary in **Key Value tuple** pairs"
      ],
      "metadata": {
        "id": "BH0vg30MrnFg"
      }
    },
    {
      "cell_type": "code",
      "source": [
        "user= {'name': 'Alice', 'age': 25}\n",
        "print(user.items())"
      ],
      "metadata": {
        "colab": {
          "base_uri": "https://localhost:8080/"
        },
        "id": "3q4M-2Fwrnt9",
        "outputId": "ed298774-da6c-4c60-cbae-09bd1bc18ac4"
      },
      "execution_count": 23,
      "outputs": [
        {
          "output_type": "stream",
          "name": "stdout",
          "text": [
            "dict_items([('name', 'Alice'), ('age', 25)])\n"
          ]
        }
      ]
    },
    {
      "cell_type": "markdown",
      "source": [
        "# **'IN' KEYWORD**\n",
        "\n",
        "## We can check if a key is present inside a dictionary using 'IN' keyword - which returns a boolean ('T' or 'F')"
      ],
      "metadata": {
        "id": "_NVOgUhKozLG"
      }
    },
    {
      "cell_type": "code",
      "source": [
        "user= {'name': 'Dhishu', 'age': 25}\n",
        "print('name' in user)\n",
        "print('city' in user)"
      ],
      "metadata": {
        "colab": {
          "base_uri": "https://localhost:8080/"
        },
        "id": "O1I19xLcp6mv",
        "outputId": "f9c68dc9-f099-4269-eac6-926daea07747"
      },
      "execution_count": 21,
      "outputs": [
        {
          "output_type": "stream",
          "name": "stdout",
          "text": [
            "True\n",
            "False\n"
          ]
        }
      ]
    },
    {
      "cell_type": "markdown",
      "source": [
        "## **Iterating through Dictionary:**\n",
        "### We can use 'for' loop to iterate through a dictionary by using the key\n"
      ],
      "metadata": {
        "id": "YmE2fBuyqGqT"
      }
    },
    {
      "cell_type": "code",
      "source": [
        "user= {'name': 'Aurora', 'age': 25,'city':\"Ernakulam\"}\n",
        "\n",
        "for key in user:\n",
        "    print(key,\":\",user[key])"
      ],
      "metadata": {
        "colab": {
          "base_uri": "https://localhost:8080/"
        },
        "id": "fDBj4c04qqAT",
        "outputId": "e4f30aad-f05c-480f-dcd2-ef9ee9eade7d"
      },
      "execution_count": 22,
      "outputs": [
        {
          "output_type": "stream",
          "name": "stdout",
          "text": [
            "name : Aurora\n",
            "age : 25\n",
            "city : Ernakulam\n"
          ]
        }
      ]
    },
    {
      "cell_type": "markdown",
      "source": [
        "# **Nested Dictionaries**\n",
        "### As the name suggest, we can write a dictionary within another dictionary.\n",
        "###inside a dictionary - we can write another dictionary as a **\"value\"**\n",
        "Example code 👇"
      ],
      "metadata": {
        "id": "TGUJLLwKsJWP"
      }
    },
    {
      "cell_type": "code",
      "source": [
        "Students={'stud1':{'name':'Abel','Roll no':1},'stud2':{'name':'Abhiram','Roll no':2} }\n",
        "\n",
        "print(Students)\n",
        "print(Students['stud1'])\n",
        "print(Students['stud1']['name'])"
      ],
      "metadata": {
        "colab": {
          "base_uri": "https://localhost:8080/"
        },
        "id": "byrQNyW3sJxq",
        "outputId": "2d4a2a67-6f6d-4d3d-ef2c-0c2665321f23"
      },
      "execution_count": 27,
      "outputs": [
        {
          "output_type": "stream",
          "name": "stdout",
          "text": [
            "{'stud1': {'name': 'Abel', 'Roll no': 1}, 'stud2': {'name': 'Abhiram', 'Roll no': 2}}\n",
            "{'name': 'Abel', 'Roll no': 1}\n",
            "Abel\n"
          ]
        }
      ]
    }
  ]
}